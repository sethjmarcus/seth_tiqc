{
 "cells": [
  {
   "attachments": {},
   "cell_type": "markdown",
   "metadata": {},
   "source": [
    "## Seth TIQC File"
   ]
  },
  {
   "cell_type": "code",
   "execution_count": 16,
   "metadata": {},
   "outputs": [],
   "source": [
    "# import libraries\n",
    "import pandas as pd\n",
    "import seaborn as sns\n",
    "import matplotlib.pyplot as plt\n",
    "#import plotly.graph_objects as go\n",
    "from scipy.stats import mannwhitneyu"
   ]
  },
  {
   "cell_type": "code",
   "execution_count": 4,
   "metadata": {},
   "outputs": [],
   "source": [
    "# import .csv/excel files\n",
    "filepath='/home/seth/Documents/tech_incubator/survey_responses/'\n",
    "post_survey_1 = pd.read_excel(filepath+'Post-InternshipServeyResponses.xlsx', sheet_name=\"Form Responses 1\")\n",
    "post_survey_2 = pd.read_excel(filepath+'TIQC_Post-InternshipSurveyResponses.xlsx', sheet_name=\"Form Responses 1\")\n",
    "pre_survey = pd.read_excel(filepath+'Pre-InternshipSurveyResponses.xlsx', sheet_name=\"Form Responses 1\")"
   ]
  },
  {
   "cell_type": "code",
   "execution_count": 5,
   "metadata": {},
   "outputs": [],
   "source": [
    "column_names_post_survey_1 = [\n",
    "    'How comfortable do you feel with the following workplace skills upon completion of your internship ? [Leadership ]',\n",
    "    'How comfortable do you feel with the following workplace skills upon completion of your internship ? [Ability to work in a team ]',\n",
    "    'How comfortable do you feel with the following workplace skills upon completion of your internship ? [Writing Effectively ]',\n",
    "    'How comfortable do you feel with the following workplace skills upon completion of your internship ? [Speaking Effectively ]',\n",
    "    'How comfortable do you feel with the following workplace skills upon completion of your internship ? [Problem Solving ]',\n",
    "    'How comfortable do you feel with the following workplace skills upon completion of your internship ? [Initiative ]',\n",
    "    'How comfortable do you feel with the following workplace skills upon completion of your internship ? [Analytical/Quantitative ]'\n",
    "]\n",
    "column_names_pre_survey = [\n",
    "    'How comfortable are you with the following workplace skills? [Leadership ]',\n",
    "    'How comfortable are you with the following workplace skills? [Ability to work in a team ]',\n",
    "    'How comfortable are you with the following workplace skills? [Writing Effectively ]',\n",
    "    'How comfortable are you with the following workplace skills? [Speaking Effectively ]',\n",
    "    'How comfortable are you with the following workplace skills? [Problem Solving ]',\n",
    "    'How comfortable are you with the following workplace skills? [Initiative ]',\n",
    "    'How comfortable are you with the following workplace skills? [Analytical/Quantitative ]'\n",
    "]\n",
    "valid_responses = [\n",
    "    'Extremely Uncomfortable',\n",
    "    'Moderately Uncomfortable',\n",
    "    'Neutral',\n",
    "    'Moderately Comfortable',\n",
    "    'Extremely Comfortable'\n",
    "]"
   ]
  },
  {
   "cell_type": "code",
   "execution_count": 6,
   "metadata": {},
   "outputs": [],
   "source": [
    "for col in column_names_post_survey_1:\n",
    "    post_survey_1 = post_survey_1[post_survey_1[col].isin(valid_responses)]\n",
    "for col in column_names_pre_survey:\n",
    "    pre_survey = pre_survey[pre_survey[col].isin(valid_responses)]"
   ]
  },
  {
   "cell_type": "code",
   "execution_count": 55,
   "metadata": {},
   "outputs": [
    {
     "name": "stdout",
     "output_type": "stream",
     "text": [
      "(18, 14)\n",
      "(156, 13)\n"
     ]
    }
   ],
   "source": [
    "print(post_survey_1.shape)\n",
    "print(pre_survey.shape)"
   ]
  },
  {
   "cell_type": "code",
   "execution_count": 7,
   "metadata": {},
   "outputs": [],
   "source": [
    "paired_data = []\n",
    "for col_pre, col_post in zip(column_names_pre_survey, column_names_post_survey_1):\n",
    "    output_post1 =  post_survey_1.groupby(col_post, as_index=True)[col_post].count().to_frame().rename(columns={col_post:'count'})\n",
    "    output_pre=pre_survey.groupby(col_pre, as_index=True)[col_pre].count().to_frame().rename(columns={col_pre:'count'})\n",
    "    joined_data = output_post1.join(other=output_pre, how='outer', lsuffix=\"_post_survey\", rsuffix=\"_pre_survey\")\n",
    "    joined_data.count_post_survey = joined_data.count_post_survey.fillna(0).astype(int)\n",
    "    joined_data = joined_data.reindex(valid_responses)\n",
    "    \n",
    "    paired_data.append([col_pre, col_post, joined_data])"
   ]
  },
  {
   "cell_type": "code",
   "execution_count": 20,
   "metadata": {},
   "outputs": [
    {
     "data": {
      "image/png": "[encoded data removed]",
      "text/plain": [
       "<Figure size 640x480 with 1 Axes>"
      ]
     },
     "metadata": {},
     "output_type": "display_data"
    }
   ],
   "source": [
    "for obj in paired_data:\n",
    "    df = pd.DataFrame(obj[2])\n",
    "    cols = df.columns\n",
    "    df[cols] = df[cols].div(df[cols].sum(axis=0), axis=1).multiply(100)\n",
    "    df.plot(kind='barh', stacked=False)\n",
    "    \n",
    "    break"
   ]
  },
  {
   "cell_type": "code",
   "execution_count": 83,
   "metadata": {},
   "outputs": [
    {
     "name": "stdout",
     "output_type": "stream",
     "text": [
      "How comfortable do you feel with the following workplace skills upon completion of your internship ? [Leadership ] 0.05555555555555555\n",
      "How comfortable do you feel with the following workplace skills upon completion of your internship ? [Ability to work in a team ] 0.15079365079365079\n",
      "How comfortable do you feel with the following workplace skills upon completion of your internship ? [Writing Effectively ] 0.15079365079365079\n",
      "How comfortable do you feel with the following workplace skills upon completion of your internship ? [Speaking Effectively ] 0.031746031746031744\n",
      "How comfortable do you feel with the following workplace skills upon completion of your internship ? [Problem Solving ] 0.09523809523809523\n",
      "How comfortable do you feel with the following workplace skills upon completion of your internship ? [Initiative ] 0.09523809523809523\n",
      "How comfortable do you feel with the following workplace skills upon completion of your internship ? [Analytical/Quantitative ] 0.09523809523809523\n"
     ]
    }
   ],
   "source": [
    "for obj in paired_data:\n",
    "    my_mannwhitneyu, p = mannwhitneyu(obj[2].count_post_survey, obj[2].count_pre_survey, method='exact')\n",
    "    print(obj[1], p)"
   ]
  }
 ],
 "metadata": {
  "kernelspec": {
   "display_name": "seth_tiqc",
   "language": "python",
   "name": "python3"
  },
  "language_info": {
   "codemirror_mode": {
    "name": "ipython",
    "version": 3
   },
   "file_extension": ".py",
   "mimetype": "text/x-python",
   "name": "python",
   "nbconvert_exporter": "python",
   "pygments_lexer": "ipython3",
   "version": "3.10.8"
  },
  "orig_nbformat": 4,
  "vscode": {
   "interpreter": {
    "hash": "b3f318dffbb9755439805ca18ba865a4b37f3c7f0ea0e08346dd341125da2a66"
   }
  }
 },
 "nbformat": 4,
 "nbformat_minor": 2
}
