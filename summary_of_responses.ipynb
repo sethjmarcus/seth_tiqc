{
  "nbformat": 4,
  "nbformat_minor": 0,
  "metadata": {
    "colab": {
      "provenance": [],
      "authorship_tag": "ABX9TyP/uNa2MdzYuoNMfEatpYi7",
      "include_colab_link": true
    },
    "kernelspec": {
      "name": "python3",
      "display_name": "Python 3"
    },
    "language_info": {
      "name": "python"
    }
  },
  "cells": [
    {
      "cell_type": "markdown",
      "metadata": {
        "id": "view-in-github",
        "colab_type": "text"
      },
      "source": [
        "<a href=\"https://colab.research.google.com/github/sethjmarcus/seth_tiqc/blob/master/summary_of_responses.ipynb\" target=\"_parent\"><img src=\"https://colab.research.google.com/assets/colab-badge.svg\" alt=\"Open In Colab\"/></a>"
      ]
    },
    {
      "cell_type": "code",
      "execution_count": 1,
      "metadata": {
        "colab": {
          "base_uri": "https://localhost:8080/"
        },
        "id": "0Ms-dJk8Ytjh",
        "outputId": "7567c291-720a-4844-b217-58f421e0c27c"
      },
      "outputs": [
        {
          "output_type": "stream",
          "name": "stderr",
          "text": [
            "[nltk_data] Downloading package punkt to /root/nltk_data...\n",
            "[nltk_data]   Package punkt is already up-to-date!\n",
            "[nltk_data] Downloading package stopwords to /root/nltk_data...\n",
            "[nltk_data]   Package stopwords is already up-to-date!\n"
          ]
        }
      ],
      "source": [
        "# import libraries\n",
        "import nltk\n",
        "nltk.download('punkt')\n",
        "nltk.download('stopwords')\n",
        "import pandas as pd\n",
        "import numpy as np\n",
        "import re\n",
        "from sklearn.feature_extraction.text import TfidfVectorizer\n",
        "import pandas as pd\n",
        "from scipy.sparse.linalg import svds\n",
        "import networkx\n",
        "from gensim.summarization import summarize"
      ]
    },
    {
      "cell_type": "code",
      "source": [
        "# Needed for networkx\n",
        "# !pip install --upgrade scipy networkx"
      ],
      "metadata": {
        "id": "voeWQGdG4Qa_"
      },
      "execution_count": 2,
      "outputs": []
    },
    {
      "cell_type": "code",
      "source": [
        "# Get documents\n",
        "post_survey_1 = pd.read_excel('/content/Post-InternshipServeyResponses.xlsx', sheet_name=\"Form Responses 1\")\n",
        "post_survey_2 = pd.read_excel('/content/TIQC_Post-InternshipSurveyResponses.xlsx', sheet_name=\"Form Responses 1\")\n",
        "pre_survey = pd.read_excel('/content/Pre-InternshipSurveyResponses.xlsx', sheet_name=\"Form Responses 1\")"
      ],
      "metadata": {
        "id": "3E8vB77QYydD"
      },
      "execution_count": 3,
      "outputs": []
    },
    {
      "cell_type": "code",
      "source": [
        "# select relevant columns\n",
        "post_survey_1 = post_survey_1[['What did you gain from your internship?',\n",
        "       'Did you feel adequately prepared for your internship? What components of your education aided you or do you wish you had more of?',\n",
        "       'Compile a list of three outcomes from your internship. Are these the ones you were looking for?',\n",
        "       'What three words would you use to summarize your internship?']]\n",
        "post_survey_2 = post_survey_2[['What key skills you think you have developed through this internship?']]\n",
        "pre_survey = pre_survey [['What do you want to achieve from this internship opportunity?',\n",
        "       'Do you believe you are sufficiently prepared for your internship experience? Why or why not? ',\n",
        "       'List three outcomes you hope to attain by the end of your internship.',\n",
        "       'What three skills will you bring to the internship?']]\n",
        "\n",
        "# Edit columns into strings. Want to summarize all of the entries per column\n",
        "post_survey_1_strings = {}\n",
        "post_survey_2_strings = {}\n",
        "pre_survey_strings = {}\n",
        "\n",
        "for df, df_string in zip([post_survey_1, post_survey_2, pre_survey], [post_survey_1_strings, post_survey_2_strings, pre_survey_strings]):\n",
        "  for colname in df.columns:\n",
        "    df_string[colname] = ' '.join(df[colname])\n",
        "    df_string[colname] = re.sub(r'\\n|\\r', ' ', df_string[colname])\n",
        "    df_string[colname] = re.sub(r' +', ' ', df_string[colname])\n",
        "    df_string[colname] = df_string[colname].strip()"
      ],
      "metadata": {
        "id": "Ijq_rhwbY2MI"
      },
      "execution_count": 54,
      "outputs": []
    },
    {
      "cell_type": "code",
      "source": [
        "# Basic Text Pre-processing\n",
        "stop_words = nltk.corpus.stopwords.words('english')\n",
        "def normalize_document(doc):\n",
        "    # lower case and remove special characters\\whitespaces\n",
        "    doc = re.sub(r'[^a-zA-Z\\s]', '', doc, re.I|re.A)\n",
        "    doc = doc.lower()\n",
        "    doc = doc.strip()\n",
        "    # tokenize document\n",
        "    tokens = nltk.word_tokenize(doc)\n",
        "    # filter stopwords out of document\n",
        "    filtered_tokens = [token for token in tokens if token not in stop_words]\n",
        "    # re-create document from filtered tokens\n",
        "    doc = ' '.join(filtered_tokens)\n",
        "    return doc"
      ],
      "metadata": {
        "id": "rBgdlTGCZWZu"
      },
      "execution_count": 5,
      "outputs": []
    },
    {
      "cell_type": "code",
      "source": [
        "def low_rank_svd(matrix, singular_count=2):\n",
        "    u, s, vt = svds(matrix, k=singular_count)\n",
        "    return u, s, vt"
      ],
      "metadata": {
        "id": "ls73oPTPZ2yi"
      },
      "execution_count": 6,
      "outputs": []
    },
    {
      "cell_type": "code",
      "source": [
        "def pipeline(input_string, key, n_lines):\n",
        "  sentences = nltk.sent_tokenize(input_string)\n",
        "\n",
        "  normalize_corpus = np.vectorize(normalize_document)\n",
        "  norm_sentences = normalize_corpus(sentences)\n",
        "\n",
        "  # Text Representation with Feature Engineering\n",
        "  tv = TfidfVectorizer(min_df=0., max_df=1., use_idf=True)\n",
        "  dt_matrix = tv.fit_transform(norm_sentences)\n",
        "  dt_matrix = dt_matrix.toarray()\n",
        "\n",
        "  vocab = tv.get_feature_names()\n",
        "  td_matrix = dt_matrix.T\n",
        "\n",
        "  # Latent Semantic Analysis\n",
        "  num_sentences = n_lines\n",
        "  num_topics = min(8, td_matrix.shape[1]-1)\n",
        "\n",
        "  u, s, vt = low_rank_svd(td_matrix, singular_count=num_topics)  \n",
        "  # print(u.shape, s.shape, vt.shape)\n",
        "  term_topic_mat, singular_values, topic_document_mat = u, s, vt\n",
        "\n",
        "  # remove singular values below threshold                                         \n",
        "  sv_threshold = 0.5\n",
        "  min_sigma_value = max(singular_values) * sv_threshold\n",
        "  singular_values[singular_values < min_sigma_value] = 0\n",
        "\n",
        "  salience_scores = np.sqrt(np.dot(np.square(singular_values), \n",
        "                                 np.square(topic_document_mat)))\n",
        "\n",
        "  top_sentence_indices = (-salience_scores).argsort()[:num_sentences]\n",
        "  top_sentence_indices.sort()\n",
        "\n",
        "  # send this output to a .txt file under 'Latent Semantic Analysis'\n",
        "  filename1 = \"/content/summary_files/LSM/\"+k+\".txt\"\n",
        "  file1 = open(filename1, \"w+\")\n",
        "  file1.write('\\n'.join(np.array(sentences)[top_sentence_indices]))\n",
        "  file1.close()\n",
        "  # print('\\n'.join(np.array(sentences)[top_sentence_indices]))\n",
        "\n",
        "  # TextRank\n",
        "  # Build Similarity Matrix\n",
        "  similarity_matrix = np.matmul(dt_matrix, dt_matrix.T)\n",
        "  np.round(similarity_matrix, 3)\n",
        "\n",
        "  # Build Similarity Graph\n",
        "  similarity_graph = networkx.from_numpy_array(similarity_matrix)\n",
        "\n",
        "  # Get Sentence Importance Scores\n",
        "  scores = networkx.pagerank(similarity_graph)\n",
        "  ranked_sentences = sorted(((score, index) for index, score \n",
        "                                            in scores.items()), \n",
        "                          reverse=True)\n",
        "  top_sentence_indices = [ranked_sentences[index][1] \n",
        "                        for index in range(num_sentences)]\n",
        "\n",
        "  # send this output under folder 'TextRank\n",
        "  filename2 = \"/content/summary_files/text_rank/\" + k + \".txt\"\n",
        "  file2 = open(filename2, \"w+\")\n",
        "  file2.write('\\n'.join(np.array(sentences)[top_sentence_indices]))\n",
        "  file2.close()"
      ],
      "metadata": {
        "id": "C8_eZ6FXZd2H"
      },
      "execution_count": 113,
      "outputs": []
    },
    {
      "cell_type": "code",
      "source": [
        "for k in pre_survey_strings.keys():\n",
        "  pipeline(pre_survey_strings[k], k[:-1], 50)\n",
        "for k in post_survey_1_strings.keys():\n",
        "  pipeline(post_survey_1_strings[k], k[:-1], 5)\n",
        "for k in post_survey_2_strings.keys():\n",
        "  pipeline(post_survey_2_strings[k], k[:-1], 20)"
      ],
      "metadata": {
        "colab": {
          "base_uri": "https://localhost:8080/"
        },
        "id": "M60X8FAV38d2",
        "outputId": "4f022b88-4100-46ce-b7fa-5824d8e32ebc"
      },
      "execution_count": 114,
      "outputs": [
        {
          "output_type": "stream",
          "name": "stderr",
          "text": [
            "/usr/local/lib/python3.8/dist-packages/sklearn/utils/deprecation.py:87: FutureWarning: Function get_feature_names is deprecated; get_feature_names is deprecated in 1.0 and will be removed in 1.2. Please use get_feature_names_out instead.\n",
            "  warnings.warn(msg, category=FutureWarning)\n"
          ]
        }
      ]
    }
  ]
}