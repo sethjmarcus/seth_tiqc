{
  "nbformat": 4,
  "nbformat_minor": 0,
  "metadata": {
    "colab": {
      "provenance": [],
      "authorship_tag": "ABX9TyNPp3vevwvHI4F9pqJMy4mh",
      "include_colab_link": true
    },
    "kernelspec": {
      "name": "python3",
      "display_name": "Python 3"
    },
    "language_info": {
      "name": "python"
    }
  },
  "cells": [
    {
      "cell_type": "markdown",
      "metadata": {
        "id": "view-in-github",
        "colab_type": "text"
      },
      "source": [
        "<a href=\"https://colab.research.google.com/github/sethjmarcus/seth_tiqc/blob/master/summary_of_responses.ipynb\" target=\"_parent\"><img src=\"https://colab.research.google.com/assets/colab-badge.svg\" alt=\"Open In Colab\"/></a>"
      ]
    },
    {
      "cell_type": "code",
      "execution_count": 2,
      "metadata": {
        "colab": {
          "base_uri": "https://localhost:8080/"
        },
        "id": "0Ms-dJk8Ytjh",
        "outputId": "22936b97-fc9f-490e-80f7-892b11dd2d15"
      },
      "outputs": [
        {
          "output_type": "stream",
          "name": "stderr",
          "text": [
            "[nltk_data] Downloading package punkt to /root/nltk_data...\n",
            "[nltk_data]   Unzipping tokenizers/punkt.zip.\n",
            "[nltk_data] Downloading package stopwords to /root/nltk_data...\n",
            "[nltk_data]   Unzipping corpora/stopwords.zip.\n"
          ]
        }
      ],
      "source": [
        "# import libraries\n",
        "import nltk\n",
        "nltk.download('punkt')\n",
        "nltk.download('stopwords')\n",
        "import pandas as pd\n",
        "import numpy as np\n",
        "import re\n",
        "from sklearn.feature_extraction.text import TfidfVectorizer\n",
        "import pandas as pd\n",
        "from scipy.sparse.linalg import svds\n",
        "import networkx\n",
        "from gensim.summarization import summarize"
      ]
    },
    {
      "cell_type": "code",
      "source": [
        "# Needed for networkx\n",
        "# !pip install --upgrade scipy networkx"
      ],
      "metadata": {
        "id": "voeWQGdG4Qa_"
      },
      "execution_count": null,
      "outputs": []
    },
    {
      "cell_type": "code",
      "source": [
        "# Get documents\n",
        "post_survey_1 = pd.read_excel('/content/Post-InternshipServeyResponses.xlsx', sheet_name=\"Form Responses 1\")\n",
        "post_survey_2 = pd.read_excel('/content/TIQC_Post-InternshipSurveyResponses.xlsx', sheet_name=\"Form Responses 1\")\n",
        "pre_survey = pd.read_excel('/content/Pre-InternshipSurveyResponses.xlsx', sheet_name=\"Form Responses 1\")"
      ],
      "metadata": {
        "id": "3E8vB77QYydD"
      },
      "execution_count": 3,
      "outputs": []
    },
    {
      "cell_type": "code",
      "source": [
        "# select relevant columns\n",
        "post_survey_1 = post_survey_1[['What did you gain from your internship?',\n",
        "       'Did you feel adequately prepared for your internship? What components of your education aided you or do you wish you had more of?',\n",
        "       'Compile a list of three outcomes from your internship. Are these the ones you were looking for?',\n",
        "       'What three words would you use to summarize your internship?']]\n",
        "post_survey_2 = post_survey_2[['What key skills you think you have developed through this internship?']]\n",
        "pre_survey = pre_survey [['What do you want to achieve from this internship opportunity?',\n",
        "       'Do you believe you are sufficiently prepared for your internship experience? Why or why not? ',\n",
        "       'List three outcomes you hope to attain by the end of your internship.',\n",
        "       'What three skills will you bring to the internship?']]\n",
        "\n",
        "# Edit columns into strings. Want to summarize all of the entries per column\n",
        "post_survey_1_strings = {}\n",
        "post_survey_2_strings = {}\n",
        "pre_survey_strings = {}\n",
        "\n",
        "for df, df_string in zip([post_survey_1, post_survey_2, pre_survey], [post_survey_1_strings, post_survey_2_strings, pre_survey_strings]):\n",
        "  for colname in df.columns:\n",
        "    df_string[colname] = ' '.join(df[colname])\n",
        "    df_string[colname] = re.sub(r'\\n|\\r', ' ', df_string[colname])\n",
        "    df_string[colname] = re.sub(r' +', ' ', df_string[colname])\n",
        "    df_string[colname] = df_string[colname].strip()"
      ],
      "metadata": {
        "id": "Ijq_rhwbY2MI"
      },
      "execution_count": 11,
      "outputs": []
    },
    {
      "cell_type": "code",
      "source": [
        "# Basic Text Pre-processing\n",
        "stop_words = nltk.corpus.stopwords.words('english')\n",
        "def normalize_document(doc):\n",
        "    # lower case and remove special characters\\whitespaces\n",
        "    doc = re.sub(r'[^a-zA-Z\\s]', '', doc, re.I|re.A)\n",
        "    doc = doc.lower()\n",
        "    doc = doc.strip()\n",
        "    # tokenize document\n",
        "    tokens = nltk.word_tokenize(doc)\n",
        "    # filter stopwords out of document\n",
        "    filtered_tokens = [token for token in tokens if token not in stop_words]\n",
        "    # re-create document from filtered tokens\n",
        "    doc = ' '.join(filtered_tokens)\n",
        "    return doc"
      ],
      "metadata": {
        "id": "rBgdlTGCZWZu"
      },
      "execution_count": null,
      "outputs": []
    },
    {
      "cell_type": "code",
      "source": [
        "def low_rank_svd(matrix, singular_count=2):\n",
        "    u, s, vt = svds(matrix, k=singular_count)\n",
        "    return u, s, vt"
      ],
      "metadata": {
        "id": "ls73oPTPZ2yi"
      },
      "execution_count": null,
      "outputs": []
    },
    {
      "cell_type": "code",
      "source": [
        "def pipeline(input_string, key, n_lines):\n",
        "  sentences = nltk.sent_tokenize(input_string)\n",
        "\n",
        "  normalize_corpus = np.vectorize(normalize_document)\n",
        "  norm_sentences = normalize_corpus(sentences)\n",
        "\n",
        "  # Text Representation with Feature Engineering\n",
        "  tv = TfidfVectorizer(min_df=0., max_df=1., use_idf=True)\n",
        "  dt_matrix = tv.fit_transform(norm_sentences)\n",
        "  dt_matrix = dt_matrix.toarray()\n",
        "\n",
        "  vocab = tv.get_feature_names()\n",
        "  td_matrix = dt_matrix.T\n",
        "\n",
        "  # Latent Semantic Analysis\n",
        "  num_sentences = n_lines\n",
        "  num_topics = min(8, td_matrix.shape[1]-1)\n",
        "\n",
        "  u, s, vt = low_rank_svd(td_matrix, singular_count=num_topics)  \n",
        "  # print(u.shape, s.shape, vt.shape)\n",
        "  term_topic_mat, singular_values, topic_document_mat = u, s, vt\n",
        "\n",
        "  # remove singular values below threshold                                         \n",
        "  sv_threshold = 0.5\n",
        "  min_sigma_value = max(singular_values) * sv_threshold\n",
        "  singular_values[singular_values < min_sigma_value] = 0\n",
        "\n",
        "  salience_scores = np.sqrt(np.dot(np.square(singular_values), \n",
        "                                 np.square(topic_document_mat)))\n",
        "\n",
        "  top_sentence_indices = (-salience_scores).argsort()[:num_sentences]\n",
        "  top_sentence_indices.sort()\n",
        "\n",
        "  # send this output to a .txt file under 'Latent Semantic Analysis'\n",
        "  filename1 = \"/content/summary_files/LSM/\"+k+\".txt\"\n",
        "  file1 = open(filename1, \"w+\")\n",
        "  file1.write('\\n'.join(np.array(sentences)[top_sentence_indices]))\n",
        "  file1.close()\n",
        "  # print('\\n'.join(np.array(sentences)[top_sentence_indices]))\n",
        "\n",
        "  # TextRank\n",
        "  # Build Similarity Matrix\n",
        "  similarity_matrix = np.matmul(dt_matrix, dt_matrix.T)\n",
        "  np.round(similarity_matrix, 3)\n",
        "\n",
        "  # Build Similarity Graph\n",
        "  similarity_graph = networkx.from_numpy_array(similarity_matrix)\n",
        "\n",
        "  # Get Sentence Importance Scores\n",
        "  scores = networkx.pagerank(similarity_graph)\n",
        "  ranked_sentences = sorted(((score, index) for index, score \n",
        "                                            in scores.items()), \n",
        "                          reverse=True)\n",
        "  top_sentence_indices = [ranked_sentences[index][1] \n",
        "                        for index in range(num_sentences)]\n",
        "\n",
        "  # send this output under folder 'TextRank\n",
        "  filename2 = \"/content/summary_files/text_rank/\" + k + \".txt\"\n",
        "  file2 = open(filename2, \"w+\")\n",
        "  file2.write('\\n'.join(np.array(sentences)[top_sentence_indices]))\n",
        "  file2.close()"
      ],
      "metadata": {
        "id": "C8_eZ6FXZd2H"
      },
      "execution_count": null,
      "outputs": []
    },
    {
      "cell_type": "code",
      "source": [
        "for k in pre_survey_strings.keys():\n",
        "  pipeline(pre_survey_strings[k], k[:-1], 50)\n",
        "for k in post_survey_1_strings.keys():\n",
        "  pipeline(post_survey_1_strings[k], k[:-1], 5)\n",
        "for k in post_survey_2_strings.keys():\n",
        "  pipeline(post_survey_2_strings[k], k[:-1], 20)"
      ],
      "metadata": {
        "colab": {
          "base_uri": "https://localhost:8080/"
        },
        "id": "M60X8FAV38d2",
        "outputId": "4f022b88-4100-46ce-b7fa-5824d8e32ebc"
      },
      "execution_count": null,
      "outputs": [
        {
          "output_type": "stream",
          "name": "stderr",
          "text": [
            "/usr/local/lib/python3.8/dist-packages/sklearn/utils/deprecation.py:87: FutureWarning: Function get_feature_names is deprecated; get_feature_names is deprecated in 1.0 and will be removed in 1.2. Please use get_feature_names_out instead.\n",
            "  warnings.warn(msg, category=FutureWarning)\n"
          ]
        }
      ]
    },
    {
      "cell_type": "markdown",
      "source": [
        "# Chat GPT Text Summary"
      ],
      "metadata": {
        "id": "cghORqd9aB7S"
      }
    },
    {
      "cell_type": "code",
      "source": [
        "#!pip install openai"
      ],
      "metadata": {
        "id": "VHtUIu9oaFjA",
        "colab": {
          "base_uri": "https://localhost:8080/"
        },
        "outputId": "d2e30588-da3c-4db0-f4c7-4f70c406c113"
      },
      "execution_count": 5,
      "outputs": [
        {
          "output_type": "stream",
          "name": "stdout",
          "text": [
            "Looking in indexes: https://pypi.org/simple, https://us-python.pkg.dev/colab-wheels/public/simple/\n",
            "Collecting openai\n",
            "  Downloading openai-0.26.0.tar.gz (54 kB)\n",
            "\u001b[?25l     \u001b[90m━━━━━━━━━━━━━━━━━━━━━━━━━━━━━━━━━━━━━━━━\u001b[0m \u001b[32m0.0/54.7 KB\u001b[0m \u001b[31m?\u001b[0m eta \u001b[36m-:--:--\u001b[0m\r\u001b[2K     \u001b[90m━━━━━━━━━━━━━━━━━━━━━━━━━━━━━━━━━━━━━━━━\u001b[0m \u001b[32m54.7/54.7 KB\u001b[0m \u001b[31m6.5 MB/s\u001b[0m eta \u001b[36m0:00:00\u001b[0m\n",
            "\u001b[?25h  Installing build dependencies ... \u001b[?25l\u001b[?25hdone\n",
            "  Getting requirements to build wheel ... \u001b[?25l\u001b[?25hdone\n",
            "  Preparing metadata (pyproject.toml) ... \u001b[?25l\u001b[?25hdone\n",
            "Requirement already satisfied: tqdm in /usr/local/lib/python3.8/dist-packages (from openai) (4.64.1)\n",
            "Requirement already satisfied: aiohttp in /usr/local/lib/python3.8/dist-packages (from openai) (3.8.3)\n",
            "Requirement already satisfied: requests>=2.20 in /usr/local/lib/python3.8/dist-packages (from openai) (2.25.1)\n",
            "Requirement already satisfied: idna<3,>=2.5 in /usr/local/lib/python3.8/dist-packages (from requests>=2.20->openai) (2.10)\n",
            "Requirement already satisfied: urllib3<1.27,>=1.21.1 in /usr/local/lib/python3.8/dist-packages (from requests>=2.20->openai) (1.24.3)\n",
            "Requirement already satisfied: certifi>=2017.4.17 in /usr/local/lib/python3.8/dist-packages (from requests>=2.20->openai) (2022.12.7)\n",
            "Requirement already satisfied: chardet<5,>=3.0.2 in /usr/local/lib/python3.8/dist-packages (from requests>=2.20->openai) (4.0.0)\n",
            "Requirement already satisfied: charset-normalizer<3.0,>=2.0 in /usr/local/lib/python3.8/dist-packages (from aiohttp->openai) (2.1.1)\n",
            "Requirement already satisfied: attrs>=17.3.0 in /usr/local/lib/python3.8/dist-packages (from aiohttp->openai) (22.2.0)\n",
            "Requirement already satisfied: frozenlist>=1.1.1 in /usr/local/lib/python3.8/dist-packages (from aiohttp->openai) (1.3.3)\n",
            "Requirement already satisfied: async-timeout<5.0,>=4.0.0a3 in /usr/local/lib/python3.8/dist-packages (from aiohttp->openai) (4.0.2)\n",
            "Requirement already satisfied: yarl<2.0,>=1.0 in /usr/local/lib/python3.8/dist-packages (from aiohttp->openai) (1.8.2)\n",
            "Requirement already satisfied: aiosignal>=1.1.2 in /usr/local/lib/python3.8/dist-packages (from aiohttp->openai) (1.3.1)\n",
            "Requirement already satisfied: multidict<7.0,>=4.5 in /usr/local/lib/python3.8/dist-packages (from aiohttp->openai) (6.0.4)\n",
            "Building wheels for collected packages: openai\n",
            "  Building wheel for openai (pyproject.toml) ... \u001b[?25l\u001b[?25hdone\n",
            "  Created wheel for openai: filename=openai-0.26.0-py3-none-any.whl size=66855 sha256=489f1788ed237bee7f20eee77659c53d897df21c81981020ed7deb0e7f2eb6e0\n",
            "  Stored in directory: /root/.cache/pip/wheels/7e/4c/c8/31e9d441bd937e2b9076627465f9db43ab6db40f08aae60b66\n",
            "Successfully built openai\n",
            "Installing collected packages: openai\n",
            "Successfully installed openai-0.26.0\n"
          ]
        }
      ]
    },
    {
      "cell_type": "code",
      "source": [
        "import openai\n",
        "from pathlib import Path"
      ],
      "metadata": {
        "id": "h-oPDxUMaIl_"
      },
      "execution_count": 6,
      "outputs": []
    },
    {
      "cell_type": "code",
      "source": [
        "openai.api_key = Path(\"/content/.secret\").read_text()"
      ],
      "metadata": {
        "id": "fQ-z891EaLzK"
      },
      "execution_count": 7,
      "outputs": []
    },
    {
      "cell_type": "markdown",
      "source": [
        "Figure out how to create prompt for all questions"
      ],
      "metadata": {
        "id": "2T0HX6N2bAFL"
      }
    },
    {
      "cell_type": "code",
      "source": [
        "def chat_gpt_pipeline(input_string, question) -> str:\n",
        "  input_prompt = 'summarize this in 5 sentences or less' + ' '.join(input_string)\n",
        "  response = openai.Completion.create(\n",
        "      model = 'text-davinci-003',\n",
        "      prompt = input_prompt,\n",
        "      temperature = 0.3,\n",
        "      n=5\n",
        "  )\n",
        "  # format responses into text\n",
        "  ll = []\n",
        "  for obj in response.choices:\n",
        "    ll.append(obj.text.strip())\n",
        "  return '\\n'.join(ll)\n",
        " "
      ],
      "metadata": {
        "id": "sxg2BJqn64zr"
      },
      "execution_count": 47,
      "outputs": []
    },
    {
      "cell_type": "code",
      "source": [
        "def split_sentences(sentences, max_length):\n",
        "    new_lists = []\n",
        "    current_list = []\n",
        "    current_length = 0\n",
        "    for sentence in sentences:\n",
        "        if (current_length + len(sentence)) < max_length:\n",
        "            current_list.append(sentence)\n",
        "            current_length += len(sentence)\n",
        "        else:\n",
        "            new_lists.append(current_list)\n",
        "            current_list = [sentence]\n",
        "            current_length = len(sentence)\n",
        "    new_lists.append(current_list)\n",
        "    return new_lists"
      ],
      "metadata": {
        "id": "IpZCCOXcKWEH"
      },
      "execution_count": 9,
      "outputs": []
    },
    {
      "cell_type": "code",
      "source": [
        "# split on space\n",
        "post_survey_1_strings = {}\n",
        "post_survey_2_strings = {}\n",
        "pre_survey_strings = {}\n",
        "\n",
        "for df, df_string in zip([post_survey_1, post_survey_2, pre_survey], [post_survey_1_strings, post_survey_2_strings, pre_survey_strings]):\n",
        "  for colname in df.columns:\n",
        "    df_string[colname] = split_sentences(df[colname], 4000)"
      ],
      "metadata": {
        "id": "ZDGsf40SCpVv"
      },
      "execution_count": 13,
      "outputs": []
    },
    {
      "cell_type": "code",
      "source": [],
      "metadata": {
        "id": "HWO1sXh3OhpQ"
      },
      "execution_count": null,
      "outputs": []
    },
    {
      "cell_type": "code",
      "source": [
        " # send this output under folder chat_gpt\n",
        "def send_to_file(question, list_of_strings):\n",
        "  filename2 = \"/content/chat_gpt/\" + question + \".txt\"\n",
        "  file2 = open(filename2, \"w+\")\n",
        "  file2.write('\\n'.join(list_of_strings))\n",
        "  file2.close()"
      ],
      "metadata": {
        "id": "fCpIIEwTMUpT"
      },
      "execution_count": 15,
      "outputs": []
    },
    {
      "cell_type": "code",
      "source": [
        "for k in pre_survey_strings.keys():\n",
        "  print(len(pre_survey_strings[k]))\n",
        "\n",
        "for k in post_survey_1_strings.keys():\n",
        "  print(len(post_survey_1_strings[k]))\n",
        "\n",
        "for k in post_survey_2_strings.keys():\n",
        "  print(len(post_survey_2_strings[k]))"
      ],
      "metadata": {
        "colab": {
          "base_uri": "https://localhost:8080/"
        },
        "id": "hGk0KPxN9tEm",
        "outputId": "9b949aca-1388-493b-e19e-ba319f5b7100"
      },
      "execution_count": 46,
      "outputs": [
        {
          "output_type": "stream",
          "name": "stdout",
          "text": [
            "19409\n",
            "24977\n",
            "21858\n",
            "13587\n",
            "3150\n",
            "3921\n",
            "3901\n",
            "797\n",
            "6562\n"
          ]
        }
      ]
    },
    {
      "cell_type": "code",
      "source": [
        "for obj in [pre_survey_strings, post_survey_1_strings, post_survey_2_strings]:\n",
        "  for key in obj.keys():\n",
        "    list_of_strings = []\n",
        "    for string_list in obj[key]:\n",
        "      list_of_strings.append(chat_gpt_pipeline(string_list, key))\n",
        "    send_to_file(key, list_of_strings)"
      ],
      "metadata": {
        "id": "CWargPdwS97e"
      },
      "execution_count": 48,
      "outputs": []
    },
    {
      "cell_type": "code",
      "source": [
        "!zip -r /content/chat_gpt_output.zip /content/chat_gpt/\n",
        "from google.colab import files\n",
        "files.download(\"/content/chat_gpt_output.zip\")"
      ],
      "metadata": {
        "colab": {
          "base_uri": "https://localhost:8080/",
          "height": 208
        },
        "id": "UilOkwiwi4Lp",
        "outputId": "a456b3b8-4f87-459f-a586-02e70234d813"
      },
      "execution_count": 49,
      "outputs": [
        {
          "output_type": "stream",
          "name": "stdout",
          "text": [
            "  adding: content/chat_gpt/ (stored 0%)\n",
            "  adding: content/chat_gpt/.ipynb_checkpoints/ (stored 0%)\n",
            "  adding: content/chat_gpt/What did you gain from your internship?.txt (deflated 63%)\n",
            "  adding: content/chat_gpt/What do you want to achieve from this internship opportunity?.txt (deflated 81%)\n",
            "  adding: content/chat_gpt/Did you feel adequately prepared for your internship? What components of your education aided you or do you wish you had more of?.txt (deflated 71%)\n",
            "  adding: content/chat_gpt/List three outcomes you hope to attain by the end of your internship..txt (deflated 71%)\n",
            "  adding: content/chat_gpt/What three words would you use to summarize your internship?.txt (deflated 55%)\n",
            "  adding: content/chat_gpt/What three skills will you bring to the internship?.txt (deflated 68%)\n",
            "  adding: content/chat_gpt/Compile a list of three outcomes from your internship. Are these the ones you were looking for?.txt (deflated 49%)\n",
            "  adding: content/chat_gpt/What key skills you think you have developed through this internship?.txt (deflated 69%)\n",
            "  adding: content/chat_gpt/Do you believe you are sufficiently prepared for your internship experience? Why or why not? .txt (deflated 69%)\n"
          ]
        },
        {
          "output_type": "display_data",
          "data": {
            "text/plain": [
              "<IPython.core.display.Javascript object>"
            ],
            "application/javascript": [
              "\n",
              "    async function download(id, filename, size) {\n",
              "      if (!google.colab.kernel.accessAllowed) {\n",
              "        return;\n",
              "      }\n",
              "      const div = document.createElement('div');\n",
              "      const label = document.createElement('label');\n",
              "      label.textContent = `Downloading \"${filename}\": `;\n",
              "      div.appendChild(label);\n",
              "      const progress = document.createElement('progress');\n",
              "      progress.max = size;\n",
              "      div.appendChild(progress);\n",
              "      document.body.appendChild(div);\n",
              "\n",
              "      const buffers = [];\n",
              "      let downloaded = 0;\n",
              "\n",
              "      const channel = await google.colab.kernel.comms.open(id);\n",
              "      // Send a message to notify the kernel that we're ready.\n",
              "      channel.send({})\n",
              "\n",
              "      for await (const message of channel.messages) {\n",
              "        // Send a message to notify the kernel that we're ready.\n",
              "        channel.send({})\n",
              "        if (message.buffers) {\n",
              "          for (const buffer of message.buffers) {\n",
              "            buffers.push(buffer);\n",
              "            downloaded += buffer.byteLength;\n",
              "            progress.value = downloaded;\n",
              "          }\n",
              "        }\n",
              "      }\n",
              "      const blob = new Blob(buffers, {type: 'application/binary'});\n",
              "      const a = document.createElement('a');\n",
              "      a.href = window.URL.createObjectURL(blob);\n",
              "      a.download = filename;\n",
              "      div.appendChild(a);\n",
              "      a.click();\n",
              "      div.remove();\n",
              "    }\n",
              "  "
            ]
          },
          "metadata": {}
        },
        {
          "output_type": "display_data",
          "data": {
            "text/plain": [
              "<IPython.core.display.Javascript object>"
            ],
            "application/javascript": [
              "download(\"download_7ab15b72-c88e-48fb-9f41-ce7af1d8bce9\", \"chat_gpt_output.zip\", 5969)"
            ]
          },
          "metadata": {}
        }
      ]
    }
  ]
}